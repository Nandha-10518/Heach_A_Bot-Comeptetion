{
 "cells": [
  {
   "cell_type": "code",
   "execution_count": 1,
   "metadata": {},
   "outputs": [
    {
     "name": "stdout",
     "output_type": "stream",
     "text": [
      "CSV file 'support_tickets.csv' generated with 60 rows.\n"
     ]
    }
   ],
   "source": [
    "import csv\n",
    "import random\n",
    "\n",
    "# Define possible values for the dataset\n",
    "descriptions = [\n",
    "    \"System crash during update\", \"Unable to access account\", \"Payment gateway error\",\n",
    "    \"Feature request for new update\", \"Login issues after password change\", \n",
    "    \"Bug in the mobile app\", \"Request for data export\", \"Error in billing calculation\",\n",
    "    \"Security vulnerability report\", \"Slow system performance\", \"Network connectivity issues\"\n",
    "]\n",
    "\n",
    "urgency_levels = [\"High\", \"Medium\", \"Low\"]\n",
    "departments = [\"Technical Support\", \"Billing\", \"Customer Service\"]\n",
    "\n",
    "# Create the CSV file\n",
    "with open('support_tickets.csv', mode='w', newline='') as file:\n",
    "    writer = csv.writer(file)\n",
    "    # Write the header\n",
    "    writer.writerow([\"Ticket ID\", \"Description\", \"Urgency\", \"Department\"])\n",
    "    \n",
    "    # Write 60 rows of data\n",
    "    for i in range(1, 61):\n",
    "        ticket_id = f\"TICKET-{i:03d}\"\n",
    "        description = random.choice(descriptions)\n",
    "        urgency = random.choice(urgency_levels)\n",
    "        department = random.choice(departments)\n",
    "        writer.writerow([ticket_id, description, urgency, department])\n",
    "\n",
    "print(\"CSV file 'support_tickets.csv' generated with 60 rows.\")"
   ]
  }
 ],
 "metadata": {
  "kernelspec": {
   "display_name": "Python 3",
   "language": "python",
   "name": "python3"
  },
  "language_info": {
   "codemirror_mode": {
    "name": "ipython",
    "version": 3
   },
   "file_extension": ".py",
   "mimetype": "text/x-python",
   "name": "python",
   "nbconvert_exporter": "python",
   "pygments_lexer": "ipython3",
   "version": "3.12.5"
  }
 },
 "nbformat": 4,
 "nbformat_minor": 2
}
